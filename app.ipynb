{
 "cells": [
  {
   "cell_type": "code",
   "execution_count": 3,
   "id": "3d01e214-6de9-4a4b-9665-ac1568b0f835",
   "metadata": {},
   "outputs": [],
   "source": [
    "from Algoritmos_eficientes.teste import algoritmos_eficientes"
   ]
  },
  {
   "cell_type": "code",
   "execution_count": 4,
   "id": "0dafdbc2-5a69-46fa-9951-8bcc27ac279a",
   "metadata": {},
   "outputs": [],
   "source": [
    "from Algoritmos_nao_eficientes.teste import algoritmos_nao_eficientes"
   ]
  },
  {
   "cell_type": "code",
   "execution_count": 9,
   "id": "1b777a74-5b67-476a-badb-2d517b31fc75",
   "metadata": {},
   "outputs": [
    {
     "name": "stdout",
     "output_type": "stream",
     "text": [
      "lista_ordenada: [1, 2, 3, 4, 5, 6, 7, 8, 9, 10, 11, 12, 13, 14, 15, 16, 17, 18, 19, 20, 21, 22, 23, 24, 25, 26, 27, 28, 29, 30, 31, 32, 33, 34, 35, 36, 37, 38, 39, 40, 41, 42, 43, 44, 45, 46, 47, 48, 49, 50, 51, 52, 53, 54, 55, 56, 57, 58, 59, 60, 61, 62, 63, 64, 65, 66, 67, 68, 69, 70, 71, 72, 73, 74, 75, 76, 77, 78, 79, 80, 81, 82, 83, 84, 85, 86, 87, 88, 89, 90, 91, 92, 93, 94, 95, 96, 97, 98, 99, 100]\n",
      "lista_inversamente_ordenada: [100, 99, 98, 97, 96, 95, 94, 93, 92, 91, 90, 89, 88, 87, 86, 85, 84, 83, 82, 81, 80, 79, 78, 77, 76, 75, 74, 73, 72, 71, 70, 69, 68, 67, 66, 65, 64, 63, 62, 61, 60, 59, 58, 57, 56, 55, 54, 53, 52, 51, 50, 49, 48, 47, 46, 45, 44, 43, 42, 41, 40, 39, 38, 37, 36, 35, 34, 33, 32, 31, 30, 29, 28, 27, 26, 25, 24, 23, 22, 21, 20, 19, 18, 17, 16, 15, 14, 13, 12, 11, 10, 9, 8, 7, 6, 5, 4, 3, 2, 1]\n",
      "lista_quase_ordenada: [52, 62, 3, 17, 58, 6, 1, 25, 33, 73, 88, 41, 12, 14, 53, 16, 26, 97, 94, 66, 67, 98, 36, 75, 39, 13, 27, 34, 100, 87, 31, 32, 37, 9, 44, 65, 61, 35, 8, 40, 81, 42, 22, 83, 51, 89, 47, 69, 49, 91, 54, 86, 74, 82, 57, 5, 76, 93, 18, 70, 77, 63, 2, 64, 80, 4, 21, 28, 48, 55, 71, 15, 92, 78, 24, 60, 95, 72, 10, 46, 7, 45, 38, 84, 99, 56, 59, 68, 50, 90, 23, 79, 20, 19, 29, 96, 30, 43, 85, 11]\n",
      "lista_aleatoria: [45, 35, 58, 20, 55, 30, 50, 51, 77, 61, 41, 42, 56, 21, 59, 20, 78, 29, 99, 41, 38, 60, 90, 71, 4, 11, 82, 43, 4, 46, 60, 11, 7, 49, 69, 85, 58, 54, 70, 25, 40, 51, 82, 58, 12, 92, 33, 65, 28, 65, 75, 25, 58, 41, 31, 58, 88, 94, 37, 84, 60, 38, 26, 93, 10, 11, 77, 26, 90, 80, 45, 23, 16, 82, 45, 85, 33, 90, 21, 69, 85, 24, 76, 53, 90, 52, 86, 6, 83, 18, 69, 64, 87, 53, 85, 28, 5, 29, 13, 24]\n",
      "teste para a lista ordenada\n",
      "\n",
      "Tempo de execução lista ja ordenada quick: 0.0004932880401611328\n",
      "\n",
      "Tempo de execução lista ja ordenada heap: 0.00022172927856445312\n",
      "\n",
      "Tempo de execução lista ja ordenada merge: 0.00012922286987304688\n",
      "\n",
      "teste para a lista inversamente ordenada\n",
      "\n",
      "Tempo de execução lista inversamente ordenada quick: 0.0003635883331298828\n",
      "\n",
      "Tempo de execução lista inversamente ordenada heap: 0.00013709068298339844\n",
      "\n",
      "Tempo de execução lista inversamente ordenada merge: 0.00011658668518066406\n",
      "\n",
      "teste para a lista quase ordenada\n",
      "\n",
      "Tempo de execução lista quase ordenada quick: 7.104873657226562e-05\n",
      "\n",
      "Tempo de execução lista quase ordenada heap: 0.00013875961303710938\n",
      "\n",
      "Tempo de execução lista quase ordenada merge: 0.0001246929168701172\n",
      "\n",
      "teste para a lista aleatoria\n",
      "\n",
      "Tempo de execução lista aleatoria quick: 6.771087646484375e-05\n",
      "\n",
      "Tempo de execução lista aleatoria heap: 0.0001392364501953125\n",
      "\n",
      "Tempo de execução lista aleatoria merge: 0.00012421607971191406\n"
     ]
    }
   ],
   "source": [
    "res1 = algoritmos_eficientes(100)"
   ]
  },
  {
   "cell_type": "code",
   "execution_count": 6,
   "id": "687c78ed-d98a-494a-a6c6-a956795cb4bd",
   "metadata": {},
   "outputs": [
    {
     "name": "stdout",
     "output_type": "stream",
     "text": [
      "teste para a lista ordenada\n",
      "\n",
      "Tempo de execução lista ja ordenada bubble: 0.0006005764007568359\n",
      "\n",
      "Tempo de execução lista ja ordenada insertion: 1.7404556274414062e-05\n",
      "\n",
      "Tempo de execução lista ja ordenada selection: 0.0006527900695800781\n",
      "\n",
      "teste para a lista inversamente ordenada\n",
      "\n",
      "Tempo de execução lista inversamente ordenada bubble: 0.0012183189392089844\n",
      "\n",
      "Tempo de execução lista inversamente ordenada insertion: 0.0003268718719482422\n",
      "\n",
      "Tempo de execução lista inversamente ordenada selection: 0.0007014274597167969\n",
      "\n",
      "teste para a lista quase ordenada\n",
      "\n",
      "Tempo de execução lista quase ordenada bubble: 0.0006792545318603516\n",
      "\n",
      "Tempo de execução lista quase ordenada insertion: 0.0007331371307373047\n",
      "\n",
      "Tempo de execução lista quase ordenada selection: 0.0007104873657226562\n",
      "\n",
      "teste para a lista aleatoria\n",
      "\n",
      "Tempo de execução lista aleatoria bubble: 0.0005667209625244141\n",
      "\n",
      "Tempo de execução lista aleatoria insertion: 0.0005438327789306641\n",
      "\n",
      "Tempo de execução lista aleatoria selection: 0.0006506443023681641\n"
     ]
    }
   ],
   "source": [
    "res2 = algoritmos_nao_eficientes()"
   ]
  },
  {
   "cell_type": "code",
   "execution_count": 7,
   "id": "e99d44a6-1d79-4101-b0e3-d9209cd80d22",
   "metadata": {},
   "outputs": [
    {
     "data": {
      "text/plain": [
       "{'lista ja ordenada quick': 0.0005645751953125,\n",
       " 'lista ja ordenada heap': 0.0002529621124267578,\n",
       " 'lista ja ordenada merge': 0.00017213821411132812,\n",
       " 'lista inversamente ordenada quick': 0.0004792213439941406,\n",
       " 'lista inversamente ordenada heap': 0.0001838207244873047,\n",
       " 'lista inversamente ordenada merge': 0.00014328956604003906,\n",
       " 'lista quase ordenada quick': 8.606910705566406e-05,\n",
       " 'lista quase ordenada heap': 0.00018548965454101562,\n",
       " 'lista quase ordenada merge': 0.0001430511474609375,\n",
       " 'lista aleatoria quick': 9.369850158691406e-05,\n",
       " 'lista aleatoria heap': 0.0002079010009765625,\n",
       " 'lista aleatoria merge': 0.0001437664031982422}"
      ]
     },
     "execution_count": 7,
     "metadata": {},
     "output_type": "execute_result"
    }
   ],
   "source": [
    "res1"
   ]
  },
  {
   "cell_type": "code",
   "execution_count": 8,
   "id": "6aad421a-9eec-4333-8292-93c54aeaea97",
   "metadata": {},
   "outputs": [
    {
     "data": {
      "text/plain": [
       "{'lista ja ordenada bubble': 0.0006005764007568359,\n",
       " 'lista ja ordenada insertion': 1.7404556274414062e-05,\n",
       " 'lista ja ordenada selection': 0.0006527900695800781,\n",
       " 'lista inversamente ordenada bubble': 0.0012183189392089844,\n",
       " 'lista inversamente ordenada insertion': 0.0003268718719482422,\n",
       " 'lista inversamente ordenada selection': 0.0007014274597167969,\n",
       " 'lista quase ordenada bubble': 0.0006792545318603516,\n",
       " 'lista quase ordenada insertion': 0.0007331371307373047,\n",
       " 'lista quase ordenada selection': 0.0007104873657226562,\n",
       " 'lista aleatoria bubble': 0.0005667209625244141,\n",
       " 'lista aleatoria insertion': 0.0005438327789306641,\n",
       " 'lista aleatoria selection': 0.0006506443023681641}"
      ]
     },
     "execution_count": 8,
     "metadata": {},
     "output_type": "execute_result"
    }
   ],
   "source": [
    "res2"
   ]
  },
  {
   "cell_type": "code",
   "execution_count": null,
   "id": "8e1845a2-5c61-47c3-b189-65c195e2c772",
   "metadata": {},
   "outputs": [],
   "source": []
  }
 ],
 "metadata": {
  "kernelspec": {
   "display_name": "Python 3 (ipykernel)",
   "language": "python",
   "name": "python3"
  },
  "language_info": {
   "codemirror_mode": {
    "name": "ipython",
    "version": 3
   },
   "file_extension": ".py",
   "mimetype": "text/x-python",
   "name": "python",
   "nbconvert_exporter": "python",
   "pygments_lexer": "ipython3",
   "version": "3.11.6"
  }
 },
 "nbformat": 4,
 "nbformat_minor": 5
}
